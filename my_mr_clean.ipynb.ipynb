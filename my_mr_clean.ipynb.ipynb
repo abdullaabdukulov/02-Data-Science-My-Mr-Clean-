{
 "cells": [
  {
   "cell_type": "markdown",
   "metadata": {},
   "source": [
    "Install packages"
   ]
  },
  {
   "cell_type": "code",
   "execution_count": null,
   "metadata": {},
   "outputs": [],
   "source": [
    "%%cmd\n",
    "pip install nltk matplotlib seaborn requests"
   ]
  },
  {
   "cell_type": "code",
   "execution_count": null,
   "metadata": {},
   "outputs": [],
   "source": [
    "import nltk\n",
    "\n",
    "nltk.download('stopwords')\n",
    "nltk.download('punkt')"
   ]
  },
  {
   "cell_type": "code",
   "execution_count": null,
   "metadata": {},
   "outputs": [],
   "source": [
    "import requests as _r\n",
    "from nltk.tokenize import word_tokenize\n",
    "from nltk.corpus import stopwords\n",
    "from collections import Counter\n",
    "import seaborn\n",
    "import matplotlib.pyplot as plt\n",
    "import numpy as np"
   ]
  },
  {
   "cell_type": "code",
   "execution_count": null,
   "metadata": {},
   "outputs": [],
   "source": [
    "def get_content(name=\"Ozone_layer\"):\n",
    "    params = {\n",
    "        'action': 'query',\n",
    "        'format': 'json',\n",
    "        'titles': name,\n",
    "        'prop': 'extracts',\n",
    "        'exintro': True,\n",
    "        'explaintext': True,\n",
    "    }\n",
    "    api_ = _r.get('https://en.wikipedia.org/w/api.php', params=params)\n",
    "    return api_.json()\n"
   ]
  },
  {
   "cell_type": "code",
   "execution_count": null,
   "metadata": {},
   "outputs": [],
   "source": [
    "def merge_contents(data):\n",
    "    page = next(iter(data['query']['pages'].values()))\n",
    "    return page['extract']\n"
   ]
  },
  {
   "cell_type": "code",
   "execution_count": null,
   "metadata": {},
   "outputs": [],
   "source": [
    "def tokenize(content):\n",
    "    tokens = word_tokenize(content)\n",
    "    \n",
    "    return tokens"
   ]
  },
  {
   "cell_type": "code",
   "execution_count": null,
   "metadata": {},
   "outputs": [],
   "source": [
    "def lower_collection(collection):\n",
    "    return [str(i).lower() for i in collection]"
   ]
  },
  {
   "cell_type": "code",
   "execution_count": null,
   "metadata": {},
   "outputs": [],
   "source": [
    "stop_words = set(stopwords.words('english'))\n",
    "\n",
    "def remove_stop_words(words, stop_words):\n",
    "    filtered_sentence = [w for w in words if not w in stop_words and len(w) > 3]\n",
    "    return filtered_sentence\n"
   ]
  },
  {
   "cell_type": "code",
   "execution_count": null,
   "metadata": {},
   "outputs": [],
   "source": [
    "def count_frequency(collection):\n",
    "    return Counter(collection)\n",
    "\n",
    "def print_most_frequent(frequencies, n=20):\n",
    "    return sorted(frequencies.items(), key=lambda a: a[1], reverse=True)[:n]\n"
   ]
  },
  {
   "cell_type": "code",
   "execution_count": null,
   "metadata": {},
   "outputs": [],
   "source": [
    "name = input(\"Article name: \")\n",
    "data = get_content(name)\n",
    "text = merge_contents(data)\n",
    "tokens = tokenize(text)\n",
    "lowers = lower_collection(tokens)\n",
    "no_stopwords = remove_stop_words(lowers, stop_words)\n",
    "counts = count_frequency(no_stopwords)\n",
    "results = print_most_frequent(counts)\n",
    "\n",
    "fig, ax = plt.subplots(figsize=(14, 7))\n",
    "x, y = [], []\n",
    "\n",
    "for res in results:\n",
    "    x.append(res[0])\n",
    "    y.append(res[1])\n",
    "    \n",
    "x = np.array(x)\n",
    "y = np.array(y)\n",
    "\n",
    "ax = seaborn.barplot(x=y, y=x, palette=\"hsv\", legend=False)\n",
    "plt.title(f\"The most frequency 20 words in {name if '_' not in name else ' '.join(name.split('_'))}\")\n",
    "plt.xlabel(\"Count\")\n",
    "plt.ylabel(\"Words\")\n",
    "plt.show()"
   ]
  }
 ],
 "metadata": {
  "kernelspec": {
   "display_name": ".venv",
   "language": "python",
   "name": "python3"
  },
  "language_info": {
   "codemirror_mode": {
    "name": "ipython",
    "version": 3
   },
   "file_extension": ".py",
   "mimetype": "text/x-python",
   "name": "python",
   "nbconvert_exporter": "python",
   "pygments_lexer": "ipython3",
   "version": "3.10.2"
  },
  "orig_nbformat": 4
 },
 "nbformat": 4,
 "nbformat_minor": 2
}
