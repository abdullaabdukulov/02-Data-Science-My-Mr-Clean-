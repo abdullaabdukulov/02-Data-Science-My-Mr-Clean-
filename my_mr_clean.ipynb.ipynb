{
 "cells": [
  {
   "cell_type": "markdown",
   "metadata": {},
   "source": [
    "Install packages"
   ]
  },
  {
   "cell_type": "code",
   "execution_count": 2,
   "metadata": {},
   "outputs": [
    {
     "name": "stdout",
     "output_type": "stream",
     "text": [
      "Microsoft Windows [Version 10.0.19042.1706]\n",
      "(c) Microsoft Corporation. All rights reserved.\n",
      "\n",
      "(.venv) c:\\Users\\Professional\\Desktop\\eyay\\02-Data-Science-My-Mr-Clean->pip install nltk matplotlib seaborn requests\n"
     ]
    },
    {
     "name": "stdout",
     "output_type": "stream",
     "text": [
      "Requirement already satisfied: nltk in c:\\users\\professional\\desktop\\eyay\\.venv\\lib\\site-packages (3.8.1)\n",
      "Requirement already satisfied: matplotlib in c:\\users\\professional\\desktop\\eyay\\.venv\\lib\\site-packages (3.8.2)\n",
      "Requirement already satisfied: seaborn in c:\\users\\professional\\desktop\\eyay\\.venv\\lib\\site-packages (0.13.1)\n",
      "Requirement already satisfied: requests in c:\\users\\professional\\desktop\\eyay\\.venv\\lib\\site-packages (2.31.0)\n",
      "Requirement already satisfied: click in c:\\users\\professional\\desktop\\eyay\\.venv\\lib\\site-packages (from nltk) (8.1.7)\n",
      "Requirement already satisfied: joblib in c:\\users\\professional\\desktop\\eyay\\.venv\\lib\\site-packages (from nltk) (1.3.2)\n",
      "Requirement already satisfied: regex>=2021.8.3 in c:\\users\\professional\\desktop\\eyay\\.venv\\lib\\site-packages (from nltk) (2023.12.25)\n",
      "Requirement already satisfied: tqdm in c:\\users\\professional\\desktop\\eyay\\.venv\\lib\\site-packages (from nltk) (4.66.1)\n",
      "Requirement already satisfied: contourpy>=1.0.1 in c:\\users\\professional\\desktop\\eyay\\.venv\\lib\\site-packages (from matplotlib) (1.2.0)\n",
      "Requirement already satisfied: cycler>=0.10 in c:\\users\\professional\\desktop\\eyay\\.venv\\lib\\site-packages (from matplotlib) (0.12.1)\n",
      "Requirement already satisfied: fonttools>=4.22.0 in c:\\users\\professional\\desktop\\eyay\\.venv\\lib\\site-packages (from matplotlib) (4.47.0)\n",
      "Requirement already satisfied: kiwisolver>=1.3.1 in c:\\users\\professional\\desktop\\eyay\\.venv\\lib\\site-packages (from matplotlib) (1.4.5)\n",
      "Requirement already satisfied: numpy<2,>=1.21 in c:\\users\\professional\\desktop\\eyay\\.venv\\lib\\site-packages (from matplotlib) (1.26.3)\n",
      "Requirement already satisfied: packaging>=20.0 in c:\\users\\professional\\desktop\\eyay\\.venv\\lib\\site-packages (from matplotlib) (23.2)\n",
      "Requirement already satisfied: pillow>=8 in c:\\users\\professional\\desktop\\eyay\\.venv\\lib\\site-packages (from matplotlib) (10.2.0)\n",
      "Requirement already satisfied: pyparsing>=2.3.1 in c:\\users\\professional\\desktop\\eyay\\.venv\\lib\\site-packages (from matplotlib) (3.1.1)\n",
      "Requirement already satisfied: python-dateutil>=2.7 in c:\\users\\professional\\desktop\\eyay\\.venv\\lib\\site-packages (from matplotlib) (2.8.2)\n",
      "Requirement already satisfied: pandas>=1.2 in c:\\users\\professional\\desktop\\eyay\\.venv\\lib\\site-packages (from seaborn) (2.1.4)\n",
      "Requirement already satisfied: charset-normalizer<4,>=2 in c:\\users\\professional\\desktop\\eyay\\.venv\\lib\\site-packages (from requests) (3.3.2)\n",
      "Requirement already satisfied: idna<4,>=2.5 in c:\\users\\professional\\desktop\\eyay\\.venv\\lib\\site-packages (from requests) (3.6)\n",
      "Requirement already satisfied: urllib3<3,>=1.21.1 in c:\\users\\professional\\desktop\\eyay\\.venv\\lib\\site-packages (from requests) (2.1.0)\n",
      "Requirement already satisfied: certifi>=2017.4.17 in c:\\users\\professional\\desktop\\eyay\\.venv\\lib\\site-packages (from requests) (2023.11.17)\n",
      "Requirement already satisfied: pytz>=2020.1 in c:\\users\\professional\\desktop\\eyay\\.venv\\lib\\site-packages (from pandas>=1.2->seaborn) (2023.3.post1)\n",
      "Requirement already satisfied: tzdata>=2022.1 in c:\\users\\professional\\desktop\\eyay\\.venv\\lib\\site-packages (from pandas>=1.2->seaborn) (2023.4)\n",
      "Requirement already satisfied: six>=1.5 in c:\\users\\professional\\desktop\\eyay\\.venv\\lib\\site-packages (from python-dateutil>=2.7->matplotlib) (1.16.0)\n",
      "Requirement already satisfied: colorama in c:\\users\\professional\\desktop\\eyay\\.venv\\lib\\site-packages (from click->nltk) (0.4.6)\n",
      "\n",
      "(.venv) c:\\Users\\Professional\\Desktop\\eyay\\02-Data-Science-My-Mr-Clean->"
     ]
    }
   ],
   "source": [
    "%%cmd\n",
    "pip install nltk matplotlib seaborn requests"
   ]
  },
  {
   "cell_type": "code",
   "execution_count": 23,
   "metadata": {},
   "outputs": [
    {
     "name": "stderr",
     "output_type": "stream",
     "text": [
      "[nltk_data] Downloading package stopwords to\n",
      "[nltk_data]     C:\\Users\\Professional\\AppData\\Roaming\\nltk_data...\n",
      "[nltk_data]   Package stopwords is already up-to-date!\n",
      "[nltk_data] Downloading package punkt to\n",
      "[nltk_data]     C:\\Users\\Professional\\AppData\\Roaming\\nltk_data...\n",
      "[nltk_data]   Package punkt is already up-to-date!\n"
     ]
    },
    {
     "data": {
      "text/plain": [
       "True"
      ]
     },
     "execution_count": 23,
     "metadata": {},
     "output_type": "execute_result"
    }
   ],
   "source": [
    "import nltk\n",
    "\n",
    "nltk.download('stopwords')\n",
    "nltk.download('punkt')"
   ]
  },
  {
   "cell_type": "code",
   "execution_count": 24,
   "metadata": {},
   "outputs": [],
   "source": [
    "import requests as _r\n",
    "from nltk.tokenize import word_tokenize\n",
    "from nltk.corpus import stopwords"
   ]
  },
  {
   "cell_type": "code",
   "execution_count": 19,
   "metadata": {},
   "outputs": [],
   "source": [
    "def get_content(name=\"Ozone_layer\"):\n",
    "    params = {\n",
    "        'action': 'query',\n",
    "        'format': 'json',\n",
    "        'titles': name,\n",
    "        'prop': 'extracts',\n",
    "        'exintro': True,\n",
    "        'explaintext': True,\n",
    "    }\n",
    "    api_ = _r.get('https://en.wikipedia.org/w/api.php', params=params)\n",
    "    return api_.json()\n"
   ]
  },
  {
   "cell_type": "code",
   "execution_count": 20,
   "metadata": {},
   "outputs": [],
   "source": [
    "def merge_contents(data):\n",
    "    page = next(iter(data['query']['pages'].values()))\n",
    "    return page['extract']\n"
   ]
  },
  {
   "cell_type": "code",
   "execution_count": 27,
   "metadata": {},
   "outputs": [],
   "source": [
    "def tokenize(content):\n",
    "    tokens = word_tokenize(content)\n",
    "    \n",
    "    return tokens"
   ]
  },
  {
   "cell_type": "code",
   "execution_count": 30,
   "metadata": {},
   "outputs": [],
   "source": [
    "def lower_collection(collection):\n",
    "    return [str(i).lower() for i in collection]"
   ]
  },
  {
   "cell_type": "code",
   "execution_count": 28,
   "metadata": {},
   "outputs": [],
   "source": [
    "stop_words = set(stopwords.words('english'))\n",
    "\n",
    "def remove_stop_words(words, stop_words):\n",
    "    filtered_sentence = [w for w in word_tokens if not w.lower() in stop_words]\n",
    "    return filtered_sentence\n"
   ]
  },
  {
   "cell_type": "code",
   "execution_count": 29,
   "metadata": {},
   "outputs": [
    {
     "ename": "NameError",
     "evalue": "name 'lower_collection' is not defined",
     "output_type": "error",
     "traceback": [
      "\u001b[1;31m---------------------------------------------------------------------------\u001b[0m",
      "\u001b[1;31mNameError\u001b[0m                                 Traceback (most recent call last)",
      "\u001b[1;32mc:\\Users\\Professional\\Desktop\\eyay\\02-Data-Science-My-Mr-Clean-\\my_mr_clean.ipynb.ipynb Cell 10\u001b[0m line \u001b[0;36m4\n\u001b[0;32m      <a href='vscode-notebook-cell:/c%3A/Users/Professional/Desktop/eyay/02-Data-Science-My-Mr-Clean-/my_mr_clean.ipynb.ipynb#W6sZmlsZQ%3D%3D?line=1'>2</a>\u001b[0m text \u001b[39m=\u001b[39m merge_contents(data)\n\u001b[0;32m      <a href='vscode-notebook-cell:/c%3A/Users/Professional/Desktop/eyay/02-Data-Science-My-Mr-Clean-/my_mr_clean.ipynb.ipynb#W6sZmlsZQ%3D%3D?line=2'>3</a>\u001b[0m tokens \u001b[39m=\u001b[39m tokenize(text)\n\u001b[1;32m----> <a href='vscode-notebook-cell:/c%3A/Users/Professional/Desktop/eyay/02-Data-Science-My-Mr-Clean-/my_mr_clean.ipynb.ipynb#W6sZmlsZQ%3D%3D?line=3'>4</a>\u001b[0m lowers \u001b[39m=\u001b[39m lower_collection(tokens)\n\u001b[0;32m      <a href='vscode-notebook-cell:/c%3A/Users/Professional/Desktop/eyay/02-Data-Science-My-Mr-Clean-/my_mr_clean.ipynb.ipynb#W6sZmlsZQ%3D%3D?line=5'>6</a>\u001b[0m \u001b[39mprint\u001b[39m(lowers)\n",
      "\u001b[1;31mNameError\u001b[0m: name 'lower_collection' is not defined"
     ]
    }
   ],
   "source": [
    "data = get_content()\n",
    "text = merge_contents(data)\n",
    "tokens = tokenize(text)\n",
    "lowers = lower_collection(tokens)\n",
    "\n",
    "print(lowers)"
   ]
  }
 ],
 "metadata": {
  "kernelspec": {
   "display_name": ".venv",
   "language": "python",
   "name": "python3"
  },
  "language_info": {
   "codemirror_mode": {
    "name": "ipython",
    "version": 3
   },
   "file_extension": ".py",
   "mimetype": "text/x-python",
   "name": "python",
   "nbconvert_exporter": "python",
   "pygments_lexer": "ipython3",
   "version": "3.10.2"
  },
  "orig_nbformat": 4
 },
 "nbformat": 4,
 "nbformat_minor": 2
}
