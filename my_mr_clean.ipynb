{
 "cells": [
  {
   "cell_type": "code",
   "execution_count": 1,
   "id": "74b9f289",
   "metadata": {},
   "outputs": [
    {
     "data": {
      "image/png": "[encoded data removed]",
      "text/plain": [
       "<Figure size 432x288 with 1 Axes>"
      ]
     },
     "metadata": {
      "needs_background": "light"
     },
     "output_type": "display_data"
    },
    {
     "data": {
      "image/png": "[encoded data removed]",
      "text/plain": [
       "<Figure size 432x288 with 1 Axes>"
      ]
     },
     "metadata": {
      "needs_background": "light"
     },
     "output_type": "display_data"
    }
   ],
   "source": [
    "import requests\n",
    "import re\n",
    "import matplotlib.pyplot as plt\n",
    " \n",
    "def get_content(article_name):\n",
    "      title = article_name\n",
    "      url = 'https://en.wikipedia.org/w/api.php'\n",
    "      params = {\n",
    "        \"action\": \"query\",\n",
    "        \"format\": \"json\",\n",
    "        \"prop\": \"revisions\",\n",
    "        \"meta\": \"\",\n",
    "        \"titles\": title,\n",
    "        \"formatversion\": \"2\",\n",
    "        \"rvprop\": \"content\",\n",
    "        \"rvslots\": \"*\",\n",
    "      }\n",
    "      response = requests.get(url, params=params)\n",
    "      return response.json()\n",
    "\n",
    "def merge_contents(data):\n",
    "        data = data[\"query\"][\"pages\"][0][\"revisions\"][0][\"slots\"][\"main\"][\"content\"]\n",
    "        data = re.sub('<[^<]+?>', '', data)\n",
    "        data = re.sub(r'\\{\\{cite\\s.*?\\}\\}', '', data)\n",
    "        data = re.sub(r'\\{\\{Cite\\s.*?\\}\\}', '', data)\n",
    "        data = re.sub(r'http\\S+', '', data)\n",
    "        data = re.sub(r'==See also==[\\s\\S]*', '', data)\n",
    "        data = re.sub(r'Image:.*?px|', '', data)\n",
    "        data = re.sub(r'File:.*?(jpg|jpeg|px|svg|png)|', '', data)\n",
    "        data = re.sub(r'\\{\\{.*?\\}\\}', '', data)\n",
    "        data = re.sub(r'(\\'|\\\")', '', data)\n",
    "        data = re.sub(r'[()\\[\\]{}\"]', '', data)\n",
    "        data = re.sub(r'\\|', ' ', data)\n",
    "        data = re.sub(r'\\+', '', data)\n",
    "        data = re.sub(r'(>|<|&|;|:)', '', data)\n",
    "        data = re.sub(r'=', '', data) \n",
    "        return data\n",
    "\n",
    "def tokenize(content):\n",
    "    content = re.sub(r'\\.', '', content)\n",
    "    content = re.sub(r',', '', content)\n",
    "    content = re.sub(r'-', ' ', content)\n",
    "    content = re.sub(r'–', ' ', content)\n",
    "    content = content.split()\n",
    "    return content\n",
    "    \n",
    "def lower_collection(collection):\n",
    "    collection = [word.lower() for word in collection]\n",
    "    return collection\n",
    "    \n",
    "def count_frequency(collection):\n",
    "    word_f = {}\n",
    "    for word in collection:\n",
    "        if word in word_f:\n",
    "            word_f[word] += 1\n",
    "        else:\n",
    "            word_f[word] = 1\n",
    "    return word_f\n",
    "\n",
    "\n",
    "def print_most_frequent(frequencies, n):\n",
    "    sorted_dict = dict(sorted(frequencies.items(), key=lambda x: x[1], reverse=True)[:n])\n",
    "    words = list(sorted_dict.keys())\n",
    "    freqs = list(sorted_dict.values())\n",
    "    words.reverse()\n",
    "    freqs.reverse()\n",
    "    plt.barh(range(len(words)), freqs)\n",
    "    plt.yticks(range(len(words)), words)\n",
    "    plt.xlabel(\"Frequency\")\n",
    "    plt.ylabel(\"Words\")\n",
    "    plt.title(\"Word Frequency Histogram\")\n",
    "    plt.show()\n",
    "    \n",
    "def remove_stop_words(words, stop_words):\n",
    "    for word in stop_words:\n",
    "        if word in words:\n",
    "            del words[word]\n",
    "    return words\n",
    "            \n",
    "  \n",
    "data = get_content(\"Ozone layer\")\n",
    "merge_content = merge_contents(data)\n",
    "collection = tokenize(merge_content)\n",
    "collection = lower_collection(collection)\n",
    "collection = count_frequency(collection)\n",
    "stop_words = [ \"the\", \"a\", \"of\", \"to\", \"in\", \"c\", \"about\", \"by\", \"and\", \"is\", \"an\", \"that\", \"are\", \"was\", \"from\", \"with\", \"be\", \"at\",\"has\",\"as\",\"have\",\"it\",\"for\",\"this\",\"which\",\"on\",\"these\",\"b\",\"or\",\"all\",\"into\",\"most\",\"because\",\"not\",\"over\",\"out\",\"being\"]\n",
    "print_most_frequent(collection, 20)\n",
    "collection = remove_stop_words(collection, stop_words)\n",
    "print_most_frequent(collection, 25)"
   ]
  },
  {
   "cell_type": "code",
   "execution_count": 2,
   "id": "637ad15f",
   "metadata": {},
   "outputs": [
    {
     "name": "stdout",
     "output_type": "stream",
     "text": [
      "\n",
      "\u001b[94m\n",
      " ██████╗ ██╗    ██╗ █████╗ ███████╗ █████╗ ██████╗    ██╗ ██████╗ \n",
      "██╔═══██╗██║    ██║██╔══██╗██╔════╝██╔══██╗██╔══██╗   ██║██╔═══██╗\n",
      "██║   ██║██║ █╗ ██║███████║███████╗███████║██████╔╝   ██║██║   ██║\n",
      "██║▄▄ ██║██║███╗██║██╔══██║╚════██║██╔══██║██╔══██╗   ██║██║   ██║\n",
      "╚██████╔╝╚███╔███╔╝██║  ██║███████║██║  ██║██║  ██║██╗██║╚██████╔╝\n",
      " ╚══▀▀═╝  ╚══╝╚══╝ ╚═╝  ╚═╝╚══════╝╚═╝  ╚═╝╚═╝  ╚═╝╚═╝╚═╝ ╚═════╝ \n",
      "\t\t\t\t\t\t\t\t\t\t\t\t\t\t\t\t\t\t\t\t\t\t\t\t\t\t\t\t\t\t\t\t \u001b[0m\n",
      "Booting Gandalf v4.1.12-deab022 (production)\n",
      "Loading parameters:  \u001b[32mOK\u001b[0m\n",
      "User saydulla_b connection: \u001b[32mOK\u001b[0m\n",
      "\n",
      "\n",
      "<MY_MR_CLEAN>\n",
      "Directory . exists: \u001b[32mOK\u001b[0m\n",
      "Pushing exercise: \u001b[32mOK\u001b[0m\n",
      "Printing your report:\n",
      "\n",
      " \u001b[97;1;40m     REPORT      \u001b[0m  \u001b[97m   MY MR CLEAN   \u001b[0m \n",
      "\n",
      " Status             \u001b[91mFAILURE EXECUTION\u001b[0m \n",
      " Execution Runtime  1.325660          \n",
      " Score              [] 0/0            \n",
      "\n",
      "Your Stderr:\n",
      "Correction crashed: errors in your file. Try to run it with ipython to see them.\n",
      "</MY_MR_CLEAN>\n"
     ]
    }
   ],
   "source": [
    "!gandalf"
   ]
  },
  {
   "cell_type": "code",
   "execution_count": null,
   "id": "ae6d92a2",
   "metadata": {},
   "outputs": [],
   "source": []
  }
 ],
 "metadata": {
  "kernelspec": {
   "display_name": "Python 3",
   "language": "python",
   "name": "python3"
  },
  "language_info": {
   "codemirror_mode": {
    "name": "ipython",
    "version": 3
   },
   "file_extension": ".py",
   "mimetype": "text/x-python",
   "name": "python",
   "nbconvert_exporter": "python",
   "pygments_lexer": "ipython3",
   "version": "3.6.7"
  }
 },
 "nbformat": 4,
 "nbformat_minor": 5
}