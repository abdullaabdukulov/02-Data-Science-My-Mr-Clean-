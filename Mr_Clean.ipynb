{
  "nbformat": 4,
  "nbformat_minor": 0,
  "metadata": {
    "colab": {
      "name": "Mr Clean.ipynb",
      "provenance": [],
      "collapsed_sections": [],
      "mount_file_id": "1xYvIEVF2QLgPbG2X5RyGwAWD7ggyblf7",
      "authorship_tag": "ABX9TyN790zxO1JMv+QX143lZkzy"
    },
    "kernelspec": {
      "name": "python3",
      "display_name": "Python 3"
    },
    "language_info": {
      "name": "python"
    }
  },
  "cells": [
    {
      "cell_type": "code",
      "source": [
        "import requests\n",
        "from bs4 import BeautifulSoup\n",
        "from operator import itemgetter\n",
        "import pandas as pd\n",
        "import seaborn as sns\n",
        "import matplotlib.pyplot as plt\n",
        "stop_words = [\"a\",'able','about','a','cross','after','all','almost','also',\"or\",\"is\",\"its\",\"it\",\"the\",'am','among','an','and','any','are','as','at','be','because','been','but','by','can','cannot','could','dear','did','do','does','either','else','ever','every','for','from','get','got','had','has','have','he','her','hers','him','his','how','however','if','in','into','is','it','its','just','least','let','like','likely','may','me','might','most','must','my','neither','no','nor','not','of','off','often','on','only','or','other','our','own','rather','said','say','says','she','should','since','so','some','than','that','the','their','them','then','there','these','they','this','tis','to','too','twas','us','wants','was','we','were','what','when','where','which','while','who','whom','why','will','with','would','yet','you','your']"
      ],
      "metadata": {
        "id": "86oqPe8mIuh9"
      },
      "execution_count": null,
      "outputs": []
    },
    {
      "cell_type": "code",
      "source": [
        "def get_content(article_name):\n",
        "  article = requests.get(f\"https://en.wikipedia.org/wiki/{article_name}\")\n",
        "  new = BeautifulSoup(article.text,'html.parser').select_one('div.vector-body')\n",
        "  all = new.find_all('p')\n",
        "  return all\n"
      ],
      "metadata": {
        "id": "_J0vJQtII_dC"
      },
      "execution_count": null,
      "outputs": []
    },
    {
      "cell_type": "markdown",
      "source": [
        ""
      ],
      "metadata": {
        "id": "ghCEuUSlJaCK"
      }
    },
    {
      "cell_type": "markdown",
      "source": [
        ""
      ],
      "metadata": {
        "id": "OSpCza2aJZ3f"
      }
    },
    {
      "cell_type": "code",
      "source": [
        "def merge_contents(data):\n",
        "  all_data = ''\n",
        "  for x in data:\n",
        "    all_data += x.text+ ' '\n",
        "  return all_data"
      ],
      "metadata": {
        "id": "EbHjnGWlJYbM"
      },
      "execution_count": null,
      "outputs": []
    },
    {
      "cell_type": "markdown",
      "source": [
        ""
      ],
      "metadata": {
        "id": "enDK-qobJpe2"
      }
    },
    {
      "cell_type": "markdown",
      "source": [
        ""
      ],
      "metadata": {
        "id": "yjLcRyA6JpcA"
      }
    },
    {
      "cell_type": "code",
      "source": [
        "def tokenize(content):\n",
        "  list_d = []\n",
        "  for i in content.split():\n",
        "    if i.isalpha():\n",
        "      list_d.append(i)\n",
        "  return list_d"
      ],
      "metadata": {
        "id": "K7M28viAJojY"
      },
      "execution_count": null,
      "outputs": []
    },
    {
      "cell_type": "markdown",
      "source": [
        ""
      ],
      "metadata": {
        "id": "SQonVmHMJ7si"
      }
    },
    {
      "cell_type": "markdown",
      "source": [
        ""
      ],
      "metadata": {
        "id": "O8gShTDeJ7pp"
      }
    },
    {
      "cell_type": "code",
      "source": [
        "def lower_collection(collection):\n",
        "    return [i.lower() for i in collection if i.lower() not in stop_words]\n",
        "    \n"
      ],
      "metadata": {
        "id": "sZrQS0-5J7CW"
      },
      "execution_count": null,
      "outputs": []
    },
    {
      "cell_type": "markdown",
      "source": [
        ""
      ],
      "metadata": {
        "id": "OGyV6YOOKFhU"
      }
    },
    {
      "cell_type": "markdown",
      "source": [
        ""
      ],
      "metadata": {
        "id": "x7_DJstvKFee"
      }
    },
    {
      "cell_type": "code",
      "source": [
        "def count_frequency(collection):\n",
        "  Count = {}\n",
        "  for k in collection:\n",
        "    word_count = collection.count(k)\n",
        "    Count[k] = word_count\n",
        "  return Count"
      ],
      "metadata": {
        "id": "K4SnKDjGKhji"
      },
      "execution_count": null,
      "outputs": []
    },
    {
      "cell_type": "markdown",
      "source": [
        ""
      ],
      "metadata": {
        "id": "PMZDZMyfNPoI"
      }
    },
    {
      "cell_type": "markdown",
      "source": [
        ""
      ],
      "metadata": {
        "id": "_ukG51MJNPlh"
      }
    },
    {
      "cell_type": "code",
      "source": [
        "\n",
        "def print_most_frequent(frequencies, n):\n",
        "  sort = sorted(frequencies.items(), key=itemgetter(1), reverse=True)\n",
        "  sort = sort[0:n]\n",
        "  return sort"
      ],
      "metadata": {
        "id": "5815aQsIMuFG"
      },
      "execution_count": null,
      "outputs": []
    },
    {
      "cell_type": "markdown",
      "source": [
        ""
      ],
      "metadata": {
        "id": "AWN-9O5XNRGf"
      }
    },
    {
      "cell_type": "markdown",
      "source": [
        ""
      ],
      "metadata": {
        "id": "QrtLCAWoNRDm"
      }
    },
    {
      "cell_type": "code",
      "source": [
        ""
      ],
      "metadata": {
        "id": "SGd2upi1TOEt"
      },
      "execution_count": null,
      "outputs": []
    },
    {
      "cell_type": "code",
      "source": [
        "def main():\n",
        "  all = get_content('Ozone_layer')\n",
        "  all_data = merge_contents(all)\n",
        "  collection = tokenize(all_data)\n",
        "  redy = lower_collection(collection)\n",
        "  frequencies = count_frequency(redy)\n",
        "  res = print_most_frequent(frequencies, 20)\n",
        "\n",
        "  data_frame = pd.DataFrame(res)\n",
        "  data_frame = data_frame.rename(columns={0: 'words', 1: 'Count'})\n",
        "  fig, ax = plt.subplots(figsize=(15,10))\n",
        "  sns.barplot(x='Count', y='words', data=data_frame)\n",
        "  # sns.set(font_scale=1)\n",
        "  plt.show()  \n",
        " \n",
        "\n",
        "main()"
      ],
      "metadata": {
        "colab": {
          "base_uri": "https://localhost:8080/",
          "height": 611
        },
        "id": "7p6_xMKaKE99",
        "outputId": "705bfb2e-4286-478f-9198-c156dd6e6e33"
      },
      "execution_count": null,
      "outputs": [
        {
          "output_type": "display_data",
          "data": {
            "text/plain": [
              "<Figure size 1080x720 with 1 Axes>"
            ],
            "image/png": "[encoded data removed]"
          },
          "metadata": {}
        }
      ]
    },
    {
      "cell_type": "code",
      "source": [
        ""
      ],
      "metadata": {
        "id": "qnggc8LvT5dM"
      },
      "execution_count": null,
      "outputs": []
    }
  ]
}